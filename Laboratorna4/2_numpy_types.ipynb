{
 "cells": [
  {
   "cell_type": "markdown",
   "metadata": {},
   "source": [
    "# Структуровані масиви даних"
   ]
  },
  {
   "cell_type": "code",
   "execution_count": 7,
   "metadata": {},
   "outputs": [],
   "source": [
    "def homework(message):\n",
    "    print(\"\\n>>>>>\", message, \"\\n\")\n",
    "import numpy as np"
   ]
  },
  {
   "cell_type": "markdown",
   "metadata": {},
   "source": [
    "# Визначення однорідного масиву"
   ]
  },
  {
   "cell_type": "code",
   "execution_count": 8,
   "metadata": {},
   "outputs": [
    {
     "name": "stdout",
     "output_type": "stream",
     "text": [
      "Отриманий масив A має вигляд:\n",
      "array([[ 3,  8,  9],\n",
      "       [ 1, -7,  0],\n",
      "       [ 4, 12,  4]], dtype=int8)\n",
      "Отриманий масив B має вигляд:\n",
      "array([[ 3.4,  8.7,  9.9],\n",
      "       [ 1.1, -7.8, -0.7],\n",
      "       [ 4.1, 12.3,  4.8]], dtype=float16)\n",
      "repr() повертає строкове представлення об'єкта, після якого програміст може це використати для відновлення об'єкта.\n",
      "Масив A має тип int8, тому і дробова частина була втрачена. Масив B має тип float16, що дозволяє зберігати дробові числа.\n"
     ]
    }
   ],
   "source": [
    "import numpy as np\n",
    "\n",
    "lst = [ [3.4, 8.7, 9.9], \n",
    "        [1.1, -7.8, -0.7],\n",
    "        [4.1, 12.3, 4.8] ]\n",
    "\n",
    "A = np.array(lst, dtype=np.int8)\n",
    "print(f\"Отриманий масив A має вигляд:\\n{repr(A)}\")\n",
    "\n",
    "B = np.array(lst, dtype=np.float16)\n",
    "print(f\"Отриманий масив B має вигляд:\\n{repr(B)}\")\n",
    "\n",
    "print(\"repr() повертає строкове представлення об'єкта, після якого програміст може це використати для відновлення об'єкта.\")\n",
    "print(\"Масив A має тип int8, тому і дробова частина була втрачена. Масив B має тип float16, що дозволяє зберігати дробові числа.\")"
   ]
  },
  {
   "cell_type": "markdown",
   "metadata": {},
   "source": [
    "# Задаємо свій тип даних\n",
    "> можливо створити свій набір даних задавши назву та типи полів. Кожне поле повинне бути заданим як tuple який містить імя та тип (числовий, символьний, тд.)."
   ]
  },
  {
   "cell_type": "code",
   "execution_count": 9,
   "metadata": {},
   "outputs": [
    {
     "ename": "SyntaxError",
     "evalue": "invalid syntax (3199436172.py, line 10)",
     "output_type": "error",
     "traceback": [
      "\u001b[1;36m  Cell \u001b[1;32mIn[9], line 10\u001b[1;36m\u001b[0m\n\u001b[1;33m    print(\"Отриманий масив:\", C).\u001b[0m\n\u001b[1;37m                                 ^\u001b[0m\n\u001b[1;31mSyntaxError\u001b[0m\u001b[1;31m:\u001b[0m invalid syntax\n"
     ]
    }
   ],
   "source": [
    "import numpy as np\n",
    "\n",
    "dt = np.dtype([('name', 'U20'), ('mark', np.int8)])\n",
    "arr = [\n",
    "    (\"Bohdan\", 4), \n",
    "    (\"Marta\", 5),\n",
    "    (\"Noname\", 0)\n",
    "]\n",
    "C = np.array(arr, dtype=dt)\n",
    "print(\"Отриманий масив:\", C).\n",
    "\n",
    "print(f\"Доступитись до певної колонки тепер можна за її іменем: {C['mark']}\")\n",
    "\n",
    "print(\"Всі імена можна отримати, звернувшись до поля 'name':\", C['name'])\n"
   ]
  },
  {
   "cell_type": "markdown",
   "metadata": {},
   "source": [
    "# Запис та зчитування з файлу, формат CSV\n",
    "> `savez` та `load` найпростіші функції для збереження даних NPZ формат;\n",
    "> CSV - формат, де значення відділені комою. Деколи цей формат дуже подібний до комірок Excel;\n",
    "> `savetxt` - метод дозволяє збуурегти масив у файл; \n",
    "> `genfromtxt` - метод вичитує дані з файлі;"
   ]
  },
  {
   "cell_type": "code",
   "execution_count": 10,
   "metadata": {},
   "outputs": [
    {
     "name": "stdout",
     "output_type": "stream",
     "text": [
      "Вихідний масив:  [('Ivan', 85, 'KN-41') ('Anna', 90, 'KN-41')]\n",
      "Оновлений масив:  [('Ivan', 85, 'KN-41') ('Anna', 90, 'KN-41') ('Oles', 95, 'KN-41')]\n",
      "Записуємо у CSV файл temp.csv значення: [('Ivan', 85, 'KN-41') ('Anna', 90, 'KN-41') ('Oles', 95, 'KN-41')]\n",
      "Перевіряємо чи файл temp.csv створився: ['2_numpy_types.ipynb', '3_numpy_operations.ipynb', '4_numpy_statistic.ipynb', 'README.md', 'temp.csv']\n",
      "Зчитане значення з файла:\n",
      " [('Ivan', 85, 'KN-41') ('Anna', 90, 'KN-41') ('Oles', 95, 'KN-41')], як бачимо - 3 елементи це <class 'numpy.void'> \n",
      "\n",
      "Ваше ім'я зчитано з масиву: Oles\n"
     ]
    }
   ],
   "source": [
    "import numpy as np\n",
    "import os\n",
    "\n",
    "# Початковий масив\n",
    "dt = np.dtype([(\"name\", \"U50\"), (\"mark\", \"i4\"), (\"group\", \"U10\")])\n",
    "C = np.array([(\"Ivan\", 85, \"KN-41\"), (\"Anna\", 90, \"KN-41\")], dtype=dt)\n",
    "\n",
    "print(\"Вихідний масив: \", C)\n",
    "\n",
    "# Додаємо свої дані до масиву\n",
    "new_entry = (\"Oles\", 95, \"KN-41\")\n",
    "C = np.append(C, np.array([new_entry], dtype=dt))\n",
    "print(\"Оновлений масив: \", C)\n",
    "\n",
    "# Збереження у CSV файл\n",
    "filename = \"temp.csv\"\n",
    "print(f\"Записуємо у CSV файл {filename} значення: {C}\")\n",
    "np.savetxt(\n",
    "    filename, \n",
    "    C, \n",
    "    fmt=\"%s,%d,%s\", \n",
    "    header=\"name,mark,group\", \n",
    "    delimiter=\",\", \n",
    "    comments=\"\"\n",
    ")\n",
    "\n",
    "# Перевіряємо, чи файл створено\n",
    "print(f\"Перевіряємо чи файл {filename} створився: {os.listdir()}\")\n",
    "\n",
    "# Читаємо файл за допомогою np.genfromtxt\n",
    "D = np.genfromtxt(filename, dtype=dt, delimiter=\",\", skip_header=1)\n",
    "print(f\"Зчитане значення з файла:\\n {D}, як бачимо - {D.size} елементи це {type(D[0])} \\n\")\n",
    "\n",
    "# Доступ до певного елемента\n",
    "my_name = [entry[\"name\"] for entry in D if entry[\"name\"] == \"Oles\"]\n",
    "print(f\"Ваше ім'я зчитано з масиву: {my_name[0]}\")\n"
   ]
  }
 ],
 "metadata": {
  "kernelspec": {
   "display_name": "Python 3",
   "language": "python",
   "name": "python3"
  },
  "language_info": {
   "codemirror_mode": {
    "name": "ipython",
    "version": 3
   },
   "file_extension": ".py",
   "mimetype": "text/x-python",
   "name": "python",
   "nbconvert_exporter": "python",
   "pygments_lexer": "ipython3",
   "version": "3.12.6"
  },
  "orig_nbformat": 4,
  "vscode": {
   "interpreter": {
    "hash": "aee8b7b246df8f9039afb4144a1f6fd8d2ca17a180786b69acc140d282b71a49"
   }
  }
 },
 "nbformat": 4,
 "nbformat_minor": 2
}
