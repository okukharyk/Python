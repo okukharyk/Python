{
 "cells": [
  {
   "cell_type": "markdown",
   "metadata": {},
   "source": [
    "# Код для завдання\n",
    "\n",
    "1. **Основні типи даних**:\n"
   ]
  },
  {
   "cell_type": "code",
   "execution_count": 20,
   "metadata": {},
   "outputs": [
    {
     "name": "stdout",
     "output_type": "stream",
     "text": [
      "Змінна a: змінна з текстом\n",
      "Змінна b: 1\n",
      "Змінна b1: 1.1\n",
      "List c: ['a', 1, 1.25, 'Слово', 'змінна з текстом']\n",
      "Dict d: {'a': 'Слово', 'b': 1, 'змінна з текстом': 1}\n",
      "Tuple e: ('a', 'змінна з текстом')\n",
      "Set f: {'ss', 'змінна з текстом1'}\n"
     ]
    }
   ],
   "source": [
    "# Створення змінних з різними типами даних\n",
    "a = \"змінна з текстом\"\n",
    "b = 1  # числова змінна\n",
    "b1 = 1.1  # числова змінна з плаваючою точкою\n",
    "c = [\"a\", 1, 1.25, \"Слово\", a]  # List\n",
    "d = {\"a\": \"Слово\", \"b\": 1, a: b}  # Dict\n",
    "e = (\"a\", a)  # Tuple\n",
    "f = {\"ss\", a + str(b)}  # Set\n",
    "\n",
    "# Вивід кожної змінної для перевірки\n",
    "print(\"Змінна a:\", a)\n",
    "print(\"Змінна b:\", b)\n",
    "print(\"Змінна b1:\", b1)\n",
    "print(\"List c:\", c)\n",
    "print(\"Dict d:\", d)\n",
    "print(\"Tuple e:\", e)\n",
    "print(\"Set f:\", f)"
   ]
  },
  {
   "cell_type": "markdown",
   "metadata": {},
   "source": [
    "2. **Вбудовані константи та функції**:"
   ]
  },
  {
   "cell_type": "code",
   "execution_count": 21,
   "metadata": {},
   "outputs": [
    {
     "name": "stdout",
     "output_type": "stream",
     "text": [
      "Перша константа: True\n",
      "Друга константа: None\n",
      "Максимальне число з [1, 2, 5, 0]: 5\n",
      "Мінімальне число з [1, 2, 5, 0]: 0\n",
      "abs(-12.5) є рівним 12.5\n"
     ]
    }
   ],
   "source": [
    "# Вбудовані константи\n",
    "print(\"Перша константа:\", True)\n",
    "print(f\"Друга константа: {None}\")\n",
    "\n",
    "# Вбудовані функції\n",
    "print(\"Максимальне число з [1, 2, 5, 0]:\", max([1, 2, 5, 0]))\n",
    "print(\"Мінімальне число з [1, 2, 5, 0]:\", min([1, 2, 5, 0]))\n",
    "\n",
    "print(\"abs(-12.5)\", f\"є рівним {abs(12.5)}\")"
   ]
  },
  {
   "cell_type": "markdown",
   "metadata": {},
   "source": [
    "\n",
    "3. **Цикли**:\n",
    " "
   ]
  },
  {
   "cell_type": "code",
   "execution_count": 22,
   "metadata": {},
   "outputs": [
    {
     "name": "stdout",
     "output_type": "stream",
     "text": [
      "На позиції 0 знаходиться буква a\n",
      "На позиції 1 знаходиться буква b\n",
      "На позиції 2 знаходиться буква c\n",
      "count =  0\n",
      "count =  1\n",
      "count =  2\n"
     ]
    }
   ],
   "source": [
    "letters = [\"a\", \"b\", \"c\"]\n",
    "# Цикл for із використанням range\n",
    "for i in range(len(letters)):\n",
    "    print(f\"На позиції {i} знаходиться буква {letters[i]}\")\n",
    "\n",
    "# Цикл while\n",
    "count = 0\n",
    "while count < 3:\n",
    "    print(\"count = \", count)\n",
    "    count += 1\n"
   ]
  },
  {
   "cell_type": "markdown",
   "metadata": {},
   "source": [
    "\n",
    "4. **Розгалуження**:\n"
   ]
  },
  {
   "cell_type": "code",
   "execution_count": 23,
   "metadata": {},
   "outputs": [
    {
     "name": "stdout",
     "output_type": "stream",
     "text": [
      "Значить A=True\n",
      "B додатнє\n"
     ]
    }
   ],
   "source": [
    "A = True\n",
    "print(\"Значить A=True\" if A else \"Значить A=False\")\n",
    "\n",
    "B = 10\n",
    "if B > 0:\n",
    "    print(\"B додатнє\")\n",
    "elif B < 0:\n",
    "    print(\"B від'ємне\")\n",
    "else:\n",
    "    print(\"B дорівнює нулю\")"
   ]
  },
  {
   "cell_type": "markdown",
   "metadata": {},
   "source": [
    "\n",
    "5. **Конструкція try-except-finally**:\n",
    "  \n"
   ]
  },
  {
   "cell_type": "code",
   "execution_count": 24,
   "metadata": {},
   "outputs": [
    {
     "name": "stdout",
     "output_type": "stream",
     "text": [
      "Помилка: division by zero\n",
      "А от воно що!\n"
     ]
    }
   ],
   "source": [
    "A = 0\n",
    "try:\n",
    "    print(\"Що буде якщо\", 10 / A, \"?\")\n",
    "except ZeroDivisionError as e:\n",
    "    print(\"Помилка:\", e)\n",
    "finally:\n",
    "    print(\"А от воно що!\")\n"
   ]
  },
  {
   "cell_type": "markdown",
   "metadata": {},
   "source": [
    "\n",
    "6. **Контекст-менеджер with**:"
   ]
  },
  {
   "cell_type": "code",
   "execution_count": 25,
   "metadata": {},
   "outputs": [
    {
     "name": "stdout",
     "output_type": "stream",
     "text": [
      "# Р—РІС–С‚ РґРѕ СЂРѕР±РѕС‚Рё 2\n",
      "## РўРµРјР°: РћСЃРЅРѕРІРё РїСЂРѕРіСЂР°РјСѓРІР°РЅРЅСЏ РЅР° Python\n",
      "### РњРµС‚Р° СЂРѕР±РѕС‚Рё: РћР·РЅР°Р№РѕРјРёС‚РёСЃСЏ С–Р· РѕСЃРЅРѕРІР°РјРё РїСЂРѕРіСЂР°РјСѓРІР°РЅРЅСЏ РЅР° Python.\n",
      "\n",
      "---\n",
      "\n",
      "## Р’РёРєРѕРЅР°РЅРЅСЏ СЂРѕР±РѕС‚Рё\n",
      "\n",
      "* ### Р РµР·СѓР»СЊС‚Р°С‚Рё РІРёРєРѕРЅР°РЅРЅСЏ Р·Р°РІРґР°РЅСЊ:\n",
      "1. РЎС‚РІРѕСЂРёРІ [С„Р°Р№Р»](./main.ipynb) С–Р· Р±Р°Р·РѕРІРёРјРё РїСЂРёРєР»Р°РґР°РјРё Python-РєРѕРґСѓ РґР»СЏ РѕР·РЅР°Р№РѕРјР»РµРЅРЅСЏ Р· С‚РёРїР°РјРё РґР°РЅРёС… С‚Р° РѕСЃРЅРѕРІРЅРёРјРё РєРѕРЅСЃС‚СЂСѓРєС†С–СЏРјРё;\n",
      "1. РћР·РЅР°Р№РѕРјРёРІСЃСЏ С–Р· С†РёРєР»Р°РјРё `for` С– `while`, РєРѕРЅСЃС‚СЂСѓРєС†С–СЏРјРё `if` С‚Р° `try-except`С‚Р° С–Р· РєРѕРЅС‚РµРєСЃС‚-РјРµРЅРµРґР¶РµСЂРѕРј `with`;\n",
      "1. РЎС‚РІРѕСЂРёРІ Lambda-С„СѓРЅРєС†С–СЋ ([РџСѓРЅРєС‚ 7](./main.ipynb)) С‚Р° РїСЂРѕС‚РµСЃС‚СѓРІР°РІ С—С— РІРёРєРѕРЅР°РЅРЅСЏ:\n",
      "![alt text](image.png)\n",
      "\n",
      "---\n",
      "\n",
      "## Р’РёСЃРЅРѕРІРѕРє:\n",
      "\n",
      "- Р’РёРєРѕРЅР°РЅРѕ Р±Р°Р·РѕРІС– РІРїСЂР°РІРё РґР»СЏ РѕР·РЅР°Р№РѕРјР»РµРЅРЅСЏ С–Р· РєРѕРЅСЃС‚СЂСѓРєС†С–СЏРјРё РЅР° Python.\n",
      "- Р”РѕСЃСЏРіРЅСѓС‚Рѕ РјРµС‚Сѓ СЂРѕР±РѕС‚Рё: РћР·РЅР°Р№РѕРјРёС‚РёСЃСЏ С–Р· РѕСЃРЅРѕРІР°РјРё РїСЂРѕРіСЂР°РјСѓРІР°РЅРЅСЏ РЅР° Python.\n",
      "- РћС‚СЂРёРјР°РЅРѕ Р·РЅР°РЅРЅСЏ РїСЂРѕ СЂС–Р·РЅРѕРјР°РЅС–С‚РЅС– РґР°РЅС– С‚Р° С„СѓРЅРєС†С–С—.\n",
      "\n",
      "---\n"
     ]
    }
   ],
   "source": [
    "with open(\"README.md\", \"r\") as f:\n",
    "    for line in f:\n",
    "        print(line.strip())\n"
   ]
  },
  {
   "cell_type": "markdown",
   "metadata": {},
   "source": [
    "\n",
    "7. **Lambda-функція**:\n"
   ]
  },
  {
   "cell_type": "code",
   "execution_count": 26,
   "metadata": {},
   "outputs": [
    {
     "name": "stdout",
     "output_type": "stream",
     "text": [
      "Це просто функція: <function <lambda> at 0x0000016DF493AA20>\n",
      "Це її виклик: Привіт від: Кухарика Олеся\n"
     ]
    }
   ],
   "source": [
    "greeting_lambda = lambda first, last: f'Привіт від: {first} {last}'\n",
    "print(\"Це просто функція:\", greeting_lambda)\n",
    "print(\"Це її виклик:\", greeting_lambda('Кухарика', 'Олеся'))\n"
   ]
  }
 ],
 "metadata": {
  "kernelspec": {
   "display_name": "Python 3",
   "language": "python",
   "name": "python3"
  },
  "language_info": {
   "codemirror_mode": {
    "name": "ipython",
    "version": 3
   },
   "file_extension": ".py",
   "mimetype": "text/x-python",
   "name": "python",
   "nbconvert_exporter": "python",
   "pygments_lexer": "ipython3",
   "version": "3.12.6"
  }
 },
 "nbformat": 4,
 "nbformat_minor": 2
}
